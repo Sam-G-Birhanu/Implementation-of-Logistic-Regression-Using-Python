{
 "cells": [
  {
   "cell_type": "code",
   "execution_count": null,
   "id": "de8311b0",
   "metadata": {},
   "outputs": [],
   "source": []
  },
  {
   "cell_type": "code",
   "execution_count": 16,
   "id": "897ef99d",
   "metadata": {
    "scrolled": true
   },
   "outputs": [
    {
     "name": "stdout",
     "output_type": "stream",
     "text": [
      "Accuracy: 0.97\n"
     ]
    }
   ],
   "source": [
    "#identify flowers as iris or not by using the dataset of their petals and implenting logistic Regression\n",
    "import numpy as np\n",
    "from sklearn import datasets\n",
    "from sklearn.model_selection import train_test_split\n",
    "from sklearn.preprocessing import StandardScaler\n",
    "from sklearn.linear_model import LogisticRegression\n",
    "from sklearn.metrics import accuracy_score\n",
    "#access the iris dataset\n",
    "\n",
    "\n",
    "iris = datasets.load_iris()\n",
    "X = iris.data[:,[2,3]]\n",
    "#target denotes the classifications... \n",
    "#the given flowers based on their width(x) with are predicted to be one of the classes included in Y\n",
    "Y = iris.target\n",
    "\n",
    "#splitting the train test sample size \n",
    "X_train, X_test, Y_train, Y_test = train_test_split(X, Y, random_state = 0, stratify = Y)\n",
    "\n",
    "#Standardize the dataset to ensure consistency, makes the mean of the dataset 0 and the stddev =1\n",
    "sc = StandardScaler()\n",
    "sc.fit(X_train) # this evaluates the mean of the given dataset\n",
    "X_train_std = sc.transform(X_train)\n",
    "X_test_std = sc.transform(X_test)\n",
    "\n",
    "#use the linear Regression model\n",
    "\n",
    "#initializing the model with weak regularization (C = 100)\n",
    "#Weak regularization means the model fits the training data well\n",
    "lr = LogisticRegression(C=100, random_state = 0) \n",
    "lr.fit(X_train_std,Y_train)\n",
    "\n",
    "#predict class\n",
    "Y_pred = lr.predict(X_test_std)\n",
    "\n",
    "#calculate accurcy score\n",
    "accuracy = accuracy_score(Y_test, Y_pred)\n",
    "print(f'Accuracy: {accuracy:.2f}')\n",
    "\n",
    "\n",
    "\n",
    "\n",
    "\n",
    "\n",
    "\n",
    "    "
   ]
  }
 ],
 "metadata": {
  "kernelspec": {
   "display_name": "Python 3 (ipykernel)",
   "language": "python",
   "name": "python3"
  },
  "language_info": {
   "codemirror_mode": {
    "name": "ipython",
    "version": 3
   },
   "file_extension": ".py",
   "mimetype": "text/x-python",
   "name": "python",
   "nbconvert_exporter": "python",
   "pygments_lexer": "ipython3",
   "version": "3.9.13"
  }
 },
 "nbformat": 4,
 "nbformat_minor": 5
}
